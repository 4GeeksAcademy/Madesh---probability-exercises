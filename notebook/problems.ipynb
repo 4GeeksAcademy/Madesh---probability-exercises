{
 "cells": [
  {
   "cell_type": "markdown",
   "id": "a41f3622",
   "metadata": {},
   "source": [
    "# Probability exercises"
   ]
  },
  {
   "cell_type": "markdown",
   "id": "a6bdbd89",
   "metadata": {},
   "source": [
    "## Exercise 1 \n",
    "\n",
    "Two dices are thrown once and the total score is observed. Use a simulation to find the estimated probability that the total score is even or greater than 7.  A simulation is a repetition of the same experiment multiple times to observe its behavior:\n",
    "\n",
    "- Run the experiment 1000 times (roll 2 dice 1000 times, and sum the number of both dices).\n",
    "- Keep track of the number of times that the sum was either greater than 7 or an even number.\n",
    "- Divide the number from step 2 by the number of iterations (1000)."
   ]
  },
  {
   "cell_type": "code",
   "execution_count": 4,
   "id": "3b221f89",
   "metadata": {},
   "outputs": [
    {
     "name": "stdout",
     "output_type": "stream",
     "text": [
      "Estimated probability that the total score is 7 or greater is: 67.0\n"
     ]
    }
   ],
   "source": [
    "\n",
    "import random \n",
    "import numpy as np \n",
    "\n",
    "def prob_two_dice(num_simulation): \n",
    "    count = 0 \n",
    "    for num in range(num_simulation):\n",
    "        die1 = random.randint(1,6)\n",
    "        die2 = random.randint(1, 6)\n",
    "        total_score = die1 + die2 \n",
    "        if (total_score > 7) or (total_score %2 == 0): \n",
    "            count += 1\n",
    "\n",
    "    return np.round((count / num_simulation) * 100) \n",
    "\n",
    "print(f\"Estimated probability that the total score is 7 or greater is: {prob_two_dice(1000)}\")"
   ]
  },
  {
   "cell_type": "markdown",
   "id": "55732bca",
   "metadata": {},
   "source": [
    "## Exercise 2\n",
    "\n",
    "A box contains 10 white balls, 20 red balls and 30 green balls. If we take 5 balls from the box with replacement (we take the ball, observe what color it is and put it back into the box). We want to know the probability of:\n",
    "\n",
    "1. Take 3 white and 2 red.\n",
    "2. Take all of the same color.\n",
    "\n",
    "Run the experiment 1000 times and calculate the above probabilities."
   ]
  },
  {
   "cell_type": "code",
   "execution_count": 5,
   "id": "8939d892",
   "metadata": {},
   "outputs": [
    {
     "name": "stdout",
     "output_type": "stream",
     "text": [
      "The probability of drawing 3 white balls and 2 red balls is: 1.00%\n",
      "The probability of drawing 5 balls of the same color is: 2.90%\n"
     ]
    }
   ],
   "source": [
    "import random\n",
    "\n",
    "# Define the box with balls: 10 white, 20 red, 30 green\n",
    "def create_ball_box():\n",
    "    white_balls = ['White'] * 10\n",
    "    red_balls = ['Red'] * 20\n",
    "    green_balls = ['Green'] * 30\n",
    "    return white_balls + red_balls + green_balls\n",
    "\n",
    "# Function to simulate drawing balls and calculating probabilities\n",
    "def simulate_drawing(n_simulations=1000):\n",
    "    ball_box = create_ball_box()  # Create the box of balls\n",
    "    count_1 = 0  # Count for 3 white and 2 red balls\n",
    "    count_2 = 0  # Count for 5 balls of the same color\n",
    "    \n",
    "    # Simulate n_simulations times\n",
    "    for _ in range(n_simulations):\n",
    "        # Draw 5 balls with replacement\n",
    "        drawn_balls = random.choices(ball_box, k=5)\n",
    "\n",
    "        # Count the occurrences of each color\n",
    "        white_balls = drawn_balls.count('White')\n",
    "        red_balls = drawn_balls.count('Red')\n",
    "        green_balls = drawn_balls.count('Green')\n",
    "\n",
    "        # Check if the first event (3 white balls and 2 red balls) occurs\n",
    "        if white_balls == 3 and red_balls == 2:\n",
    "            count_1 += 1\n",
    "\n",
    "        # Check if the second event (5 balls of the same color) occurs\n",
    "        if white_balls == 5 or red_balls == 5 or green_balls == 5:\n",
    "            count_2 += 1\n",
    "\n",
    "    # Calculate the probabilities\n",
    "    prob_1 = count_1 / n_simulations\n",
    "    prob_2 = count_2 / n_simulations\n",
    "    \n",
    "    return prob_1, prob_2\n",
    "\n",
    "# Run the simulation for 1000 draws\n",
    "prob_1, prob_2 = simulate_drawing(1000)\n",
    "\n",
    "# Print the probabilities as percentages\n",
    "print(f\"The probability of drawing 3 white balls and 2 red balls is: {prob_1 * 100:.2f}%\")\n",
    "print(f\"The probability of drawing 5 balls of the same color is: {prob_2 * 100:.2f}%\")\n",
    "\n"
   ]
  }
 ],
 "metadata": {
  "kernelspec": {
   "display_name": "Python 3",
   "language": "python",
   "name": "python3"
  },
  "language_info": {
   "codemirror_mode": {
    "name": "ipython",
    "version": 3
   },
   "file_extension": ".py",
   "mimetype": "text/x-python",
   "name": "python",
   "nbconvert_exporter": "python",
   "pygments_lexer": "ipython3",
   "version": "3.11.4"
  }
 },
 "nbformat": 4,
 "nbformat_minor": 5
}
